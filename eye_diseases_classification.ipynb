{
 "cells": [
  {
   "cell_type": "markdown",
   "id": "035406b9-4392-4d0c-9a90-1f6bffefe8cc",
   "metadata": {},
   "source": [
    "# Downloading dataset"
   ]
  },
  {
   "cell_type": "code",
   "execution_count": 1,
   "id": "079e89b5-535e-44cb-aa87-94935ded58c3",
   "metadata": {},
   "outputs": [
    {
     "name": "stdout",
     "output_type": "stream",
     "text": [
      "Requirement already satisfied: kaggle in /opt/conda/lib/python3.10/site-packages (1.5.12)\n",
      "Requirement already satisfied: tqdm in /opt/conda/lib/python3.10/site-packages (from kaggle) (4.64.1)\n",
      "Requirement already satisfied: urllib3 in /opt/conda/lib/python3.10/site-packages (from kaggle) (1.26.11)\n",
      "Requirement already satisfied: python-slugify in /opt/conda/lib/python3.10/site-packages (from kaggle) (6.1.2)\n",
      "Requirement already satisfied: six>=1.10 in /opt/conda/lib/python3.10/site-packages (from kaggle) (1.16.0)\n",
      "Requirement already satisfied: requests in /opt/conda/lib/python3.10/site-packages (from kaggle) (2.28.1)\n",
      "Requirement already satisfied: python-dateutil in /opt/conda/lib/python3.10/site-packages (from kaggle) (2.8.2)\n",
      "Requirement already satisfied: certifi in /opt/conda/lib/python3.10/site-packages (from kaggle) (2022.9.14)\n",
      "Requirement already satisfied: text-unidecode>=1.3 in /opt/conda/lib/python3.10/site-packages (from python-slugify->kaggle) (1.3)\n",
      "Requirement already satisfied: charset-normalizer<3,>=2 in /opt/conda/lib/python3.10/site-packages (from requests->kaggle) (2.1.1)\n",
      "Requirement already satisfied: idna<4,>=2.5 in /opt/conda/lib/python3.10/site-packages (from requests->kaggle) (3.4)\n"
     ]
    }
   ],
   "source": [
    "# install kaggle python api\n",
    "!pip install kaggle --upgrade"
   ]
  },
  {
   "cell_type": "code",
   "execution_count": 2,
   "id": "6950b536-db51-45a5-a2b8-e81665ce6122",
   "metadata": {},
   "outputs": [],
   "source": [
    "import os, json, subprocess"
   ]
  },
  {
   "cell_type": "code",
   "execution_count": 3,
   "id": "96e57f33-0e61-4a97-9012-5d8dbb990c9e",
   "metadata": {},
   "outputs": [],
   "source": [
    "def check_dataset(path=''):\n",
    "    if not path:\n",
    "        path = os.getcwd() + '/dataset/'  \n",
    "    return os.path.exists(path + 'cataract') and os.path.exists(path + 'diabetic_retinopathy') and os.path.exists(path + 'glaucoma') and os.path.exists(path + 'normal')\n",
    "    \n",
    "def init_on_kaggle(username, api_key):\n",
    "    KAGGLE_CONFIG_DIR = os.path.join(os.path.expandvars('$HOME'), '.kaggle')\n",
    "    os.makedirs(KAGGLE_CONFIG_DIR, exist_ok = True)\n",
    "    api_dict = {\"username\":username, \"key\":api_key}\n",
    "    with open(f\"{KAGGLE_CONFIG_DIR}/kaggle.json\", \"w\", encoding='utf-8') as f:\n",
    "        json.dump(api_dict, f)\n",
    "    cmd = f\"chmod 600 {KAGGLE_CONFIG_DIR}/kaggle.json\"\n",
    "    output = subprocess.check_output(cmd.split(\" \"))\n",
    "    output = output.decode(encoding='UTF-8')\n",
    "    print(output)\n",
    "    \n",
    "    \n",
    "def download_dataset_from_kaggle():\n",
    "    init_on_kaggle(\"yudzhao\", '14e199e96baf549cf5fbf0c5f2dfbc27')\n",
    "    \n",
    "    import kaggle\n",
    "    dataset_name = \"gunavenkatdoddi/eye-diseases-classification\"\n",
    "    print(kaggle.api.dataset_view(dataset_name))\n",
    "    \n",
    "    kaggle.api.dataset_download_files(dataset_name)\n",
    "    \n",
    "    os.system('unzip eye-diseases-classification.zip')\n",
    "    "
   ]
  },
  {
   "cell_type": "code",
   "execution_count": 4,
   "id": "50059ef1-496a-4ea4-9d0c-411066e70586",
   "metadata": {},
   "outputs": [],
   "source": [
    "dataset_location = os.getcwd() + \"/dataset/\""
   ]
  },
  {
   "cell_type": "code",
   "execution_count": 5,
   "id": "dc325bdf-4099-4e42-99dc-6b557c464398",
   "metadata": {},
   "outputs": [],
   "source": [
    "if not check_dataset(dataset_location):\n",
    "    print('The dataset doesn\\'t exist. Try to load from kaggle')\n",
    "    download_dataset_from_kaggle()"
   ]
  },
  {
   "cell_type": "code",
   "execution_count": 6,
   "id": "e95a2014-ced1-4355-b576-a653d48e9eb0",
   "metadata": {},
   "outputs": [
    {
     "name": "stdout",
     "output_type": "stream",
     "text": [
      "dataset\t\t\t\t   eye-diseases-classification.zip\n",
      "eye_diseases_classification.ipynb  README.md\n"
     ]
    }
   ],
   "source": [
    "!ls"
   ]
  },
  {
   "cell_type": "markdown",
   "id": "44a77cd4-a1ee-40ce-a541-ad5665397110",
   "metadata": {},
   "source": [
    "# Data Preparation"
   ]
  },
  {
   "cell_type": "markdown",
   "id": "af0ee11a-c9e7-40ec-b7af-34da9778f6e3",
   "metadata": {},
   "source": [
    "## Import Images"
   ]
  },
  {
   "cell_type": "code",
   "execution_count": 7,
   "id": "3331b95d-ddce-4b42-a52f-a2f250a052f0",
   "metadata": {},
   "outputs": [
    {
     "name": "stdout",
     "output_type": "stream",
     "text": [
      "Requirement already satisfied: Pillow in /opt/conda/lib/python3.10/site-packages (9.2.0)\n"
     ]
    }
   ],
   "source": [
    "!pip install Pillow"
   ]
  },
  {
   "cell_type": "code",
   "execution_count": 8,
   "id": "e47ca670-f1e0-4b4b-a864-630c6db9fbec",
   "metadata": {},
   "outputs": [],
   "source": [
    "from pyspark.sql import SparkSession\n",
    "from pyspark.sql.functions import col,when,length,sum,avg,max,count,round\n",
    "import seaborn as sns\n",
    "from PIL import Image, ImageOps, ImageFilter\n",
    "import io"
   ]
  },
  {
   "cell_type": "code",
   "execution_count": 9,
   "id": "336d262b-a902-40b8-be2d-83969ca1e836",
   "metadata": {},
   "outputs": [],
   "source": [
    "spark = SparkSession.builder\\\n",
    "        .master(\"local\")\\\n",
    "        .appName(\"eye_diseases_calssification\")\\\n",
    "        .config(\"spark.driver.memory\", \"16g\") \\\n",
    "        .config('spark.ui.port', '4050')\\\n",
    "        .getOrCreate()"
   ]
  },
  {
   "cell_type": "code",
   "execution_count": 10,
   "id": "20870063-4d43-446e-a473-b5e0e67f0a30",
   "metadata": {},
   "outputs": [],
   "source": [
    "df = spark.read.format('image').option('dropInvalid', True).option(\"recursiveFileLookup\",\"true\").load(dataset_location)"
   ]
  },
  {
   "cell_type": "code",
   "execution_count": 11,
   "id": "f7f020a0-57cc-4683-937c-88f46d1dcb2b",
   "metadata": {},
   "outputs": [
    {
     "name": "stdout",
     "output_type": "stream",
     "text": [
      "root\n",
      " |-- image: struct (nullable = true)\n",
      " |    |-- origin: string (nullable = true)\n",
      " |    |-- height: integer (nullable = true)\n",
      " |    |-- width: integer (nullable = true)\n",
      " |    |-- nChannels: integer (nullable = true)\n",
      " |    |-- mode: integer (nullable = true)\n",
      " |    |-- data: binary (nullable = true)\n",
      "\n"
     ]
    }
   ],
   "source": [
    "df.printSchema()"
   ]
  },
  {
   "cell_type": "code",
   "execution_count": 12,
   "id": "670b113f-6948-4128-8029-5a57a1c5c83c",
   "metadata": {},
   "outputs": [],
   "source": [
    "first_img = df.first()['image']\n",
    "img = Image.frombytes('RGB', (first_img['width'], first_img['height']), bytes(first_img['data']))\n",
    "img.show()"
   ]
  },
  {
   "cell_type": "code",
   "execution_count": 13,
   "id": "69eac779-6a2e-4b1b-911b-eb2a3b2c55f3",
   "metadata": {},
   "outputs": [
    {
     "name": "stdout",
     "output_type": "stream",
     "text": [
      "+------------------------------------------------------------------+-----+------+---------+----+\n",
      "|origin                                                            |width|height|nChannels|mode|\n",
      "+------------------------------------------------------------------+-----+------+---------+----+\n",
      "|file:///home/jovyan/work/BAN5600/dataset/cataract/cataract_024.png|2464 |1632  |3        |16  |\n",
      "|file:///home/jovyan/work/BAN5600/dataset/glaucoma/Glaucoma_081.png|2464 |1632  |3        |16  |\n",
      "|file:///home/jovyan/work/BAN5600/dataset/glaucoma/Glaucoma_072.png|2464 |1632  |3        |16  |\n",
      "|file:///home/jovyan/work/BAN5600/dataset/glaucoma/Glaucoma_024.png|2464 |1632  |3        |16  |\n",
      "|file:///home/jovyan/work/BAN5600/dataset/glaucoma/Glaucoma_071.png|2464 |1632  |3        |16  |\n",
      "|file:///home/jovyan/work/BAN5600/dataset/glaucoma/Glaucoma_082.png|2464 |1632  |3        |16  |\n",
      "|file:///home/jovyan/work/BAN5600/dataset/glaucoma/Glaucoma_048.png|2464 |1632  |3        |16  |\n",
      "|file:///home/jovyan/work/BAN5600/dataset/cataract/cataract_074.png|2464 |1632  |3        |16  |\n",
      "|file:///home/jovyan/work/BAN5600/dataset/cataract/cataract_028.png|2464 |1632  |3        |16  |\n",
      "|file:///home/jovyan/work/BAN5600/dataset/glaucoma/Glaucoma_086.png|2464 |1632  |3        |16  |\n",
      "+------------------------------------------------------------------+-----+------+---------+----+\n",
      "only showing top 10 rows\n",
      "\n"
     ]
    }
   ],
   "source": [
    "df.select('image.origin', 'image.width', 'image.height', 'image.nChannels', 'image.mode').show(10, truncate=False)"
   ]
  },
  {
   "cell_type": "code",
   "execution_count": 14,
   "id": "da8df19c-42ef-4a0c-a36f-6b088466a343",
   "metadata": {},
   "outputs": [],
   "source": [
    "label = when(col('image.origin').contains('cataract'), 'cataract')\\\n",
    ".when(col('image.origin').contains('diabetic_retinopathy'), 'diabetic_retinopathy')\\\n",
    ".when(col('image.origin').contains('glaucoma'), 'glaucoma')\\\n",
    ".otherwise('normal')\n",
    "\n",
    "df = df.withColumn('type', label)"
   ]
  },
  {
   "cell_type": "code",
   "execution_count": 15,
   "id": "5a1c7fcc-9b54-4873-a794-546b923fb169",
   "metadata": {},
   "outputs": [
    {
     "name": "stdout",
     "output_type": "stream",
     "text": [
      "root\n",
      " |-- image: struct (nullable = true)\n",
      " |    |-- origin: string (nullable = true)\n",
      " |    |-- height: integer (nullable = true)\n",
      " |    |-- width: integer (nullable = true)\n",
      " |    |-- nChannels: integer (nullable = true)\n",
      " |    |-- mode: integer (nullable = true)\n",
      " |    |-- data: binary (nullable = true)\n",
      " |-- type: string (nullable = false)\n",
      "\n"
     ]
    }
   ],
   "source": [
    "df.printSchema()"
   ]
  },
  {
   "cell_type": "code",
   "execution_count": 16,
   "id": "483ab389-73b7-4358-bc8b-0c5498119eeb",
   "metadata": {},
   "outputs": [
    {
     "name": "stdout",
     "output_type": "stream",
     "text": [
      "-RECORD 0---------------------\n",
      " image | {file:///home/jov... \n",
      " type  | cataract             \n",
      "only showing top 1 row\n",
      "\n"
     ]
    }
   ],
   "source": [
    "df.show(1, vertical=True)"
   ]
  },
  {
   "cell_type": "code",
   "execution_count": 17,
   "id": "451363b5-718b-4c63-95c4-10828685b0da",
   "metadata": {},
   "outputs": [
    {
     "data": {
      "text/plain": [
       "<AxesSubplot: xlabel='type', ylabel='count'>"
      ]
     },
     "execution_count": 17,
     "metadata": {},
     "output_type": "execute_result"
    },
    {
     "data": {
      "image/png": "[encoded data removed]",
      "text/plain": [
       "<Figure size 640x480 with 1 Axes>"
      ]
     },
     "metadata": {},
     "output_type": "display_data"
    }
   ],
   "source": [
    "sns.countplot(x=df.select('type').toPandas()['type'])"
   ]
  },
  {
   "cell_type": "code",
   "execution_count": 18,
   "id": "7e4c2d29-e525-47b9-b71e-d898571d6d2d",
   "metadata": {},
   "outputs": [],
   "source": [
    "agg = df.groupby('type').agg( \\\n",
    "    count('type').alias('file_count'), \\\n",
    "    round(avg('image.height'),1).alias('avg_height'), \\\n",
    "    round(avg('image.width'),1).alias('avg_width'), \\\n",
    "    max(length('image.data')).alias('max_file_size'), \\\n",
    "    round(avg(length('image.data')),1).alias('average_file_size')).collect()"
   ]
  },
  {
   "cell_type": "code",
   "execution_count": 19,
   "id": "96c518f3-63df-4271-880a-67eef88b111d",
   "metadata": {},
   "outputs": [],
   "source": [
    "agg_df = spark.createDataFrame(agg)"
   ]
  },
  {
   "cell_type": "code",
   "execution_count": 20,
   "id": "f4e2b2fb-2827-40bf-96d7-814a958c6d47",
   "metadata": {},
   "outputs": [
    {
     "name": "stdout",
     "output_type": "stream",
     "text": [
      "+--------------------+----------+----------+---------+-------------+-----------------+\n",
      "|                type|file_count|avg_height|avg_width|max_file_size|average_file_size|\n",
      "+--------------------+----------+----------+---------+-------------+-----------------+\n",
      "|            cataract|       398|     806.6|   1019.2|     13436928|        3815838.4|\n",
      "|            glaucoma|       407|     802.4|   1012.1|     13436928|        3769809.6|\n",
      "|              normal|      1074|     512.0|    512.0|       786432|         786432.0|\n",
      "|diabetic_retinopathy|      1098|     512.0|    512.0|       786432|         786432.0|\n",
      "+--------------------+----------+----------+---------+-------------+-----------------+\n",
      "\n"
     ]
    }
   ],
   "source": [
    "agg_df.show()"
   ]
  },
  {
   "cell_type": "code",
   "execution_count": null,
   "id": "a546fc19-01f1-4c30-8a37-987561d4ec21",
   "metadata": {},
   "outputs": [],
   "source": []
  },
  {
   "cell_type": "markdown",
   "id": "b5585f01-8623-41ec-b65f-f0ac8f936971",
   "metadata": {},
   "source": [
    "## Feature Extraction"
   ]
  },
  {
   "cell_type": "code",
   "execution_count": 117,
   "id": "497049cc-9f9d-4f6c-9588-a382b6bbe8fd",
   "metadata": {},
   "outputs": [],
   "source": [
    "from pyspark.sql.functions import udf, lit\n",
    "from pyspark.sql.types import BinaryType, ArrayType, IntegerType\n",
    "import numpy as np\n",
    "from pyspark.ml.linalg import Vectors, VectorUDT"
   ]
  },
  {
   "cell_type": "markdown",
   "id": "c5fbfad0-b711-4ca8-ad9a-5bcb709603b6",
   "metadata": {},
   "source": [
    "### Grayscale"
   ]
  },
  {
   "cell_type": "code",
   "execution_count": 134,
   "id": "71fcadf9-e002-4aff-b75a-dd11d98c7017",
   "metadata": {},
   "outputs": [],
   "source": [
    "def to_grayscale(image):\n",
    "    img_obj = Image.frombytes('RGB', (image['width'], image['height']), bytes(image['data']))\n",
    "    img_obj = ImageOps.grayscale(img_obj)\n",
    "   # imgByteArr = io.BytesIO()\n",
    "   # img_obj.save(imgByteArr, format=image.format)\n",
    "    return bytearray(img_obj.tobytes())"
   ]
  },
  {
   "cell_type": "code",
   "execution_count": 135,
   "id": "cc15d878-bcf5-4f8e-8983-c77c0ac03d8f",
   "metadata": {},
   "outputs": [
    {
     "data": {
      "text/plain": [
       "bytearray"
      ]
     },
     "execution_count": 135,
     "metadata": {},
     "output_type": "execute_result"
    }
   ],
   "source": [
    "type(bytearray(img.tobytes()))"
   ]
  },
  {
   "cell_type": "code",
   "execution_count": 136,
   "id": "3d0f9cfd-7993-4ef9-940e-2a17a36a9009",
   "metadata": {},
   "outputs": [],
   "source": [
    "grayscale_udf = udf(lambda x:to_grayscale(x), BinaryType())"
   ]
  },
  {
   "cell_type": "code",
   "execution_count": 137,
   "id": "4d4e306f-20f9-4459-82f7-decda6af03cd",
   "metadata": {},
   "outputs": [],
   "source": [
    "gray_df = df.withColumn(\"gray\", grayscale_udf(df.image))"
   ]
  },
  {
   "cell_type": "markdown",
   "id": "af5fcb8e-3e6b-4349-9a5f-e024c1ea6415",
   "metadata": {},
   "source": [
    "### Edge"
   ]
  },
  {
   "cell_type": "code",
   "execution_count": 140,
   "id": "964e7420-b0fd-4fef-8515-b13a20104d1a",
   "metadata": {},
   "outputs": [],
   "source": [
    "# def find_edge(image):\n",
    "#     img_obj = Image.frombytes('RGB', (image['width'], image['height']), bytes(image['data']))\n",
    "#     img_obj =  img_obj.convert(\"L\").filter(ImageFilter.FIND_EDGES).tobytes()\n",
    "#     return bytearray(img_obj)\n"
   ]
  },
  {
   "cell_type": "code",
   "execution_count": 141,
   "id": "8790932f-c0e0-4142-ae60-91843ee93645",
   "metadata": {},
   "outputs": [],
   "source": [
    "# edge_udf = udf(lambda x:find_edge(x), ArrayType(IntegerType()))"
   ]
  },
  {
   "cell_type": "code",
   "execution_count": 142,
   "id": "7e895857-c624-4f52-bb08-4bb337890463",
   "metadata": {},
   "outputs": [],
   "source": [
    "# edge_df = df.withColumn(\"edge\", edge_udf(df.image))"
   ]
  },
  {
   "cell_type": "markdown",
   "id": "e9ab1439-1698-4cc4-8396-9bbc0815d914",
   "metadata": {},
   "source": [
    "compare orign image, gray image, and edge image"
   ]
  },
  {
   "cell_type": "code",
   "execution_count": 143,
   "id": "9f803235-060f-4398-8bd1-a49996a3abb3",
   "metadata": {},
   "outputs": [],
   "source": [
    "img.show()"
   ]
  },
  {
   "cell_type": "code",
   "execution_count": 150,
   "id": "30e10cb4-672e-418a-aee8-4dfafac279be",
   "metadata": {},
   "outputs": [],
   "source": [
    "first_ = gray_df.first()"
   ]
  },
  {
   "cell_type": "code",
   "execution_count": 152,
   "id": "d8ecdc29-328e-4a06-b876-8f6c25ebc62c",
   "metadata": {},
   "outputs": [],
   "source": [
    "Image.frombytes('L', (first_['image']['width'], first_['image']['height']), bytes(first_['gray'])).show()"
   ]
  },
  {
   "cell_type": "code",
   "execution_count": null,
   "id": "22436297-4bcb-4c79-b94d-90afd82162e2",
   "metadata": {},
   "outputs": [],
   "source": []
  }
 ],
 "metadata": {
  "kernelspec": {
   "display_name": "Python 3 (ipykernel)",
   "language": "python",
   "name": "python3"
  },
  "language_info": {
   "codemirror_mode": {
    "name": "ipython",
    "version": 3
   },
   "file_extension": ".py",
   "mimetype": "text/x-python",
   "name": "python",
   "nbconvert_exporter": "python",
   "pygments_lexer": "ipython3",
   "version": "3.10.6"
  }
 },
 "nbformat": 4,
 "nbformat_minor": 5
}
