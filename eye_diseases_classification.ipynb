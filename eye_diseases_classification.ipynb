{
 "cells": [
  {
   "cell_type": "markdown",
   "id": "035406b9-4392-4d0c-9a90-1f6bffefe8cc",
   "metadata": {},
   "source": [
    "# Downloading dataset"
   ]
  },
  {
   "cell_type": "code",
   "execution_count": 2,
   "id": "079e89b5-535e-44cb-aa87-94935ded58c3",
   "metadata": {},
   "outputs": [
    {
     "name": "stdout",
     "output_type": "stream",
     "text": [
      "Requirement already satisfied: kaggle in /opt/conda/lib/python3.10/site-packages (1.5.12)\n",
      "Requirement already satisfied: requests in /opt/conda/lib/python3.10/site-packages (from kaggle) (2.28.1)\n",
      "Requirement already satisfied: six>=1.10 in /opt/conda/lib/python3.10/site-packages (from kaggle) (1.16.0)\n",
      "Requirement already satisfied: tqdm in /opt/conda/lib/python3.10/site-packages (from kaggle) (4.64.1)\n",
      "Requirement already satisfied: python-slugify in /opt/conda/lib/python3.10/site-packages (from kaggle) (6.1.2)\n",
      "Requirement already satisfied: python-dateutil in /opt/conda/lib/python3.10/site-packages (from kaggle) (2.8.2)\n",
      "Requirement already satisfied: urllib3 in /opt/conda/lib/python3.10/site-packages (from kaggle) (1.26.11)\n",
      "Requirement already satisfied: certifi in /opt/conda/lib/python3.10/site-packages (from kaggle) (2022.9.14)\n",
      "Requirement already satisfied: text-unidecode>=1.3 in /opt/conda/lib/python3.10/site-packages (from python-slugify->kaggle) (1.3)\n",
      "Requirement already satisfied: idna<4,>=2.5 in /opt/conda/lib/python3.10/site-packages (from requests->kaggle) (3.4)\n",
      "Requirement already satisfied: charset-normalizer<3,>=2 in /opt/conda/lib/python3.10/site-packages (from requests->kaggle) (2.1.1)\n"
     ]
    }
   ],
   "source": [
    "# install kaggle python api\n",
    "!pip install kaggle --upgrade"
   ]
  },
  {
   "cell_type": "code",
   "execution_count": 7,
   "id": "6950b536-db51-45a5-a2b8-e81665ce6122",
   "metadata": {},
   "outputs": [],
   "source": [
    "import os, json, subprocess"
   ]
  },
  {
   "cell_type": "code",
   "execution_count": 30,
   "id": "96e57f33-0e61-4a97-9012-5d8dbb990c9e",
   "metadata": {},
   "outputs": [],
   "source": [
    "def check_dataset(path=''):\n",
    "    if not path:\n",
    "        path = os.getcwd() + '/dataset/'  \n",
    "    return os.path.exists(path + 'cataract') and os.path.exists(path + 'diabetic_retinopathy') and os.path.exists(path + 'glaucoma') and os.path.exists(path + 'normal')\n",
    "    \n",
    "def init_on_kaggle(username, api_key):\n",
    "    KAGGLE_CONFIG_DIR = os.path.join(os.path.expandvars('$HOME'), '.kaggle')\n",
    "    os.makedirs(KAGGLE_CONFIG_DIR, exist_ok = True)\n",
    "    api_dict = {\"username\":username, \"key\":api_key}\n",
    "    with open(f\"{KAGGLE_CONFIG_DIR}/kaggle.json\", \"w\", encoding='utf-8') as f:\n",
    "        json.dump(api_dict, f)\n",
    "    cmd = f\"chmod 600 {KAGGLE_CONFIG_DIR}/kaggle.json\"\n",
    "    output = subprocess.check_output(cmd.split(\" \"))\n",
    "    output = output.decode(encoding='UTF-8')\n",
    "    print(output)\n",
    "    \n",
    "    \n",
    "def download_dataset_from_kaggle():\n",
    "    init_on_kaggle(\"yudzhao\", '14e199e96baf549cf5fbf0c5f2dfbc27')\n",
    "    \n",
    "    import kaggle\n",
    "    dataset_name = \"gunavenkatdoddi/eye-diseases-classification\"\n",
    "    print(kaggle.api.dataset_view(dataset_name))\n",
    "    \n",
    "    kaggle.api.dataset_download_files(dataset_name)\n",
    "    \n",
    "    os.system('unzip eye-diseases-classification.zip')\n",
    "    "
   ]
  },
  {
   "cell_type": "code",
   "execution_count": 31,
   "id": "50059ef1-496a-4ea4-9d0c-411066e70586",
   "metadata": {},
   "outputs": [],
   "source": [
    "dataset_location = os.getcwd() + \"/dataset/\""
   ]
  },
  {
   "cell_type": "code",
   "execution_count": 32,
   "id": "dc325bdf-4099-4e42-99dc-6b557c464398",
   "metadata": {},
   "outputs": [],
   "source": [
    "if not check_dataset(dataset_location):\n",
    "    print('The dataset doesn\\'t exist. Try to load from kaggle')\n",
    "    download_dataset_from_kaggle()"
   ]
  },
  {
   "cell_type": "code",
   "execution_count": 33,
   "id": "e95a2014-ced1-4355-b576-a653d48e9eb0",
   "metadata": {},
   "outputs": [
    {
     "name": "stdout",
     "output_type": "stream",
     "text": [
      "dataset\t\t\t\t   eye-diseases-classification.zip\n",
      "eye_diseases_classification.ipynb  README.md\n"
     ]
    }
   ],
   "source": [
    "!ls"
   ]
  },
  {
   "cell_type": "markdown",
   "id": "44a77cd4-a1ee-40ce-a541-ad5665397110",
   "metadata": {},
   "source": [
    "# Data Preparation"
   ]
  },
  {
   "cell_type": "markdown",
   "id": "af0ee11a-c9e7-40ec-b7af-34da9778f6e3",
   "metadata": {},
   "source": [
    "## Import Images"
   ]
  },
  {
   "cell_type": "code",
   "execution_count": 37,
   "id": "e47ca670-f1e0-4b4b-a864-630c6db9fbec",
   "metadata": {},
   "outputs": [],
   "source": [
    "from pyspark.sql import SparkSession"
   ]
  },
  {
   "cell_type": "code",
   "execution_count": 39,
   "id": "336d262b-a902-40b8-be2d-83969ca1e836",
   "metadata": {},
   "outputs": [],
   "source": [
    "spark = SparkSession.builder\\\n",
    "        .master(\"local\")\\\n",
    "        .appName(\"eye_diseases_calssification\")\\\n",
    "        .config('spark.ui.port', '4050')\\\n",
    "        .getOrCreate()"
   ]
  },
  {
   "cell_type": "code",
   "execution_count": 44,
   "id": "20870063-4d43-446e-a473-b5e0e67f0a30",
   "metadata": {},
   "outputs": [],
   "source": [
    "df = spark.read.format('image').option('dropInvalid', True).option(\"recursiveFileLookup\",\"true\").load(dataset_location)"
   ]
  },
  {
   "cell_type": "code",
   "execution_count": 46,
   "id": "7086b29a-868c-4745-89f7-8c1aa95ff262",
   "metadata": {},
   "outputs": [
    {
     "data": {
      "text/plain": [
       "DataFrame[image: struct<origin:string,height:int,width:int,nChannels:int,mode:int,data:binary>]"
      ]
     },
     "execution_count": 46,
     "metadata": {},
     "output_type": "execute_result"
    }
   ],
   "source": [
    "df"
   ]
  },
  {
   "cell_type": "code",
   "execution_count": 47,
   "id": "f7f020a0-57cc-4683-937c-88f46d1dcb2b",
   "metadata": {},
   "outputs": [
    {
     "name": "stdout",
     "output_type": "stream",
     "text": [
      "root\n",
      " |-- image: struct (nullable = true)\n",
      " |    |-- origin: string (nullable = true)\n",
      " |    |-- height: integer (nullable = true)\n",
      " |    |-- width: integer (nullable = true)\n",
      " |    |-- nChannels: integer (nullable = true)\n",
      " |    |-- mode: integer (nullable = true)\n",
      " |    |-- data: binary (nullable = true)\n",
      "\n"
     ]
    }
   ],
   "source": [
    "df.printSchema()"
   ]
  },
  {
   "cell_type": "code",
   "execution_count": 52,
   "id": "69eac779-6a2e-4b1b-911b-eb2a3b2c55f3",
   "metadata": {},
   "outputs": [
    {
     "name": "stdout",
     "output_type": "stream",
     "text": [
      "+------------------------------------------------------------------+-----+------+---------+----+\n",
      "|origin                                                            |width|height|nChannels|mode|\n",
      "+------------------------------------------------------------------+-----+------+---------+----+\n",
      "|file:///home/jovyan/work/BAN5600/dataset/cataract/cataract_024.png|2464 |1632  |3        |16  |\n",
      "|file:///home/jovyan/work/BAN5600/dataset/glaucoma/Glaucoma_081.png|2464 |1632  |3        |16  |\n",
      "|file:///home/jovyan/work/BAN5600/dataset/glaucoma/Glaucoma_072.png|2464 |1632  |3        |16  |\n",
      "|file:///home/jovyan/work/BAN5600/dataset/glaucoma/Glaucoma_024.png|2464 |1632  |3        |16  |\n",
      "|file:///home/jovyan/work/BAN5600/dataset/glaucoma/Glaucoma_071.png|2464 |1632  |3        |16  |\n",
      "|file:///home/jovyan/work/BAN5600/dataset/glaucoma/Glaucoma_082.png|2464 |1632  |3        |16  |\n",
      "|file:///home/jovyan/work/BAN5600/dataset/glaucoma/Glaucoma_048.png|2464 |1632  |3        |16  |\n",
      "|file:///home/jovyan/work/BAN5600/dataset/cataract/cataract_074.png|2464 |1632  |3        |16  |\n",
      "|file:///home/jovyan/work/BAN5600/dataset/cataract/cataract_028.png|2464 |1632  |3        |16  |\n",
      "|file:///home/jovyan/work/BAN5600/dataset/glaucoma/Glaucoma_086.png|2464 |1632  |3        |16  |\n",
      "+------------------------------------------------------------------+-----+------+---------+----+\n",
      "only showing top 10 rows\n",
      "\n"
     ]
    }
   ],
   "source": [
    "df.select('image.origin', 'image.width', 'image.height', 'image.nChannels', 'image.mode').show(10, truncate=False)"
   ]
  },
  {
   "cell_type": "code",
   "execution_count": 66,
   "id": "da8df19c-42ef-4a0c-a36f-6b088466a343",
   "metadata": {},
   "outputs": [],
   "source": [
    "from pyspark.sql.functions import col,when\n",
    "\n",
    "label = when(col('image.origin').contains('cataract'), 'cataract')\\\n",
    ".when(col('image.origin').contains('diabetic_retinopathy'), 'diabetic_retinopathy')\\\n",
    ".when(col('image.origin').contains('glaucoma'), 'glaucoma')\\\n",
    ".otherwise('normal')\n",
    "\n",
    "df = df.withColumn('type', label)"
   ]
  },
  {
   "cell_type": "code",
   "execution_count": 71,
   "id": "483ab389-73b7-4358-bc8b-0c5498119eeb",
   "metadata": {},
   "outputs": [
    {
     "name": "stdout",
     "output_type": "stream",
     "text": [
      "-RECORD 0---------------------\n",
      " image | {file:///home/jov... \n",
      " type  | cataract             \n",
      "only showing top 1 row\n",
      "\n"
     ]
    }
   ],
   "source": [
    "df.show(1, vertical=True)"
   ]
  },
  {
   "cell_type": "markdown",
   "id": "8552773e-4d74-46e6-b164-14f5e4dca4af",
   "metadata": {},
   "source": [
    "## Feature Extraction"
   ]
  },
  {
   "cell_type": "code",
   "execution_count": null,
   "id": "4374eaed-940a-44a1-966e-225f2747f19c",
   "metadata": {},
   "outputs": [],
   "source": []
  }
 ],
 "metadata": {
  "kernelspec": {
   "display_name": "Python 3 (ipykernel)",
   "language": "python",
   "name": "python3"
  },
  "language_info": {
   "codemirror_mode": {
    "name": "ipython",
    "version": 3
   },
   "file_extension": ".py",
   "mimetype": "text/x-python",
   "name": "python",
   "nbconvert_exporter": "python",
   "pygments_lexer": "ipython3",
   "version": "3.10.6"
  }
 },
 "nbformat": 4,
 "nbformat_minor": 5
}
