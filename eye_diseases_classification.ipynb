{
 "cells": [
  {
   "cell_type": "markdown",
   "id": "035406b9-4392-4d0c-9a90-1f6bffefe8cc",
   "metadata": {},
   "source": [
    "# Downloading dataset"
   ]
  },
  {
   "cell_type": "code",
   "execution_count": 1,
   "id": "079e89b5-535e-44cb-aa87-94935ded58c3",
   "metadata": {
    "ExecuteTime": {
     "end_time": "2022-11-18T01:45:55.072912Z",
     "start_time": "2022-11-18T01:45:43.339644Z"
    }
   },
   "outputs": [
    {
     "name": "stdout",
     "output_type": "stream",
     "text": [
      "Collecting kaggle\n",
      "  Downloading kaggle-1.5.12.tar.gz (58 kB)\n",
      "\u001b[K     |████████████████████████████████| 58 kB 1.7 MB/s eta 0:00:01\n",
      "\u001b[?25hRequirement already satisfied: six>=1.10 in /Users/zhaoyudong/opt/anaconda3/lib/python3.8/site-packages (from kaggle) (1.15.0)\n",
      "Requirement already satisfied: certifi in /Users/zhaoyudong/opt/anaconda3/lib/python3.8/site-packages (from kaggle) (2020.12.5)\n",
      "Requirement already satisfied: python-dateutil in /Users/zhaoyudong/opt/anaconda3/lib/python3.8/site-packages (from kaggle) (2.8.1)\n",
      "Requirement already satisfied: requests in /Users/zhaoyudong/opt/anaconda3/lib/python3.8/site-packages (from kaggle) (2.25.1)\n",
      "Requirement already satisfied: tqdm in /Users/zhaoyudong/opt/anaconda3/lib/python3.8/site-packages (from kaggle) (4.59.0)\n",
      "Collecting python-slugify\n",
      "  Downloading python_slugify-6.1.2-py2.py3-none-any.whl (9.4 kB)\n",
      "Requirement already satisfied: urllib3 in /Users/zhaoyudong/opt/anaconda3/lib/python3.8/site-packages (from kaggle) (1.26.4)\n",
      "Collecting text-unidecode>=1.3\n",
      "  Downloading text_unidecode-1.3-py2.py3-none-any.whl (78 kB)\n",
      "\u001b[K     |████████████████████████████████| 78 kB 5.3 MB/s eta 0:00:01\n",
      "\u001b[?25hRequirement already satisfied: chardet<5,>=3.0.2 in /Users/zhaoyudong/opt/anaconda3/lib/python3.8/site-packages (from requests->kaggle) (4.0.0)\n",
      "Requirement already satisfied: idna<3,>=2.5 in /Users/zhaoyudong/opt/anaconda3/lib/python3.8/site-packages (from requests->kaggle) (2.10)\n",
      "Building wheels for collected packages: kaggle\n",
      "  Building wheel for kaggle (setup.py) ... \u001b[?25ldone\n",
      "\u001b[?25h  Created wheel for kaggle: filename=kaggle-1.5.12-py3-none-any.whl size=73053 sha256=ca6724ad6aa14af2a117bacdbc1a913d871a936bfe1346ddbc1715af638db02b\n",
      "  Stored in directory: /Users/zhaoyudong/Library/Caches/pip/wheels/29/da/11/144cc25aebdaeb4931b231e25fd34b394e6a5725cbb2f50106\n",
      "Successfully built kaggle\n",
      "Installing collected packages: text-unidecode, python-slugify, kaggle\n",
      "Successfully installed kaggle-1.5.12 python-slugify-6.1.2 text-unidecode-1.3\n"
     ]
    }
   ],
   "source": [
    "# install kaggle python api\n",
    "!pip install kaggle --upgrade"
   ]
  },
  {
   "cell_type": "code",
   "execution_count": 2,
   "id": "6950b536-db51-45a5-a2b8-e81665ce6122",
   "metadata": {
    "ExecuteTime": {
     "end_time": "2022-11-18T01:45:55.123912Z",
     "start_time": "2022-11-18T01:45:55.076916Z"
    }
   },
   "outputs": [],
   "source": [
    "import os, json, subprocess"
   ]
  },
  {
   "cell_type": "code",
   "execution_count": 3,
   "id": "96e57f33-0e61-4a97-9012-5d8dbb990c9e",
   "metadata": {
    "ExecuteTime": {
     "end_time": "2022-11-18T01:45:55.174836Z",
     "start_time": "2022-11-18T01:45:55.161531Z"
    }
   },
   "outputs": [],
   "source": [
    "def check_dataset(path=''):\n",
    "    if not path:\n",
    "        path = os.getcwd() + '/dataset/'  \n",
    "    return os.path.exists(path + 'cataract') and os.path.exists(path + 'diabetic_retinopathy') and os.path.exists(path + 'glaucoma') and os.path.exists(path + 'normal')\n",
    "    \n",
    "def init_on_kaggle(username, api_key):\n",
    "    KAGGLE_CONFIG_DIR = os.path.join(os.path.expandvars('$HOME'), '.kaggle')\n",
    "    os.makedirs(KAGGLE_CONFIG_DIR, exist_ok = True)\n",
    "    api_dict = {\"username\":username, \"key\":api_key}\n",
    "    with open(f\"{KAGGLE_CONFIG_DIR}/kaggle.json\", \"w\", encoding='utf-8') as f:\n",
    "        json.dump(api_dict, f)\n",
    "    cmd = f\"chmod 600 {KAGGLE_CONFIG_DIR}/kaggle.json\"\n",
    "    output = subprocess.check_output(cmd.split(\" \"))\n",
    "    output = output.decode(encoding='UTF-8')\n",
    "    print(output)\n",
    "    \n",
    "    \n",
    "def download_dataset_from_kaggle():\n",
    "    init_on_kaggle(\"yudzhao\", '14e199e96baf549cf5fbf0c5f2dfbc27')\n",
    "    \n",
    "    import kaggle\n",
    "    dataset_name = \"gunavenkatdoddi/eye-diseases-classification\"\n",
    "    print(kaggle.api.dataset_view(dataset_name))\n",
    "    \n",
    "    kaggle.api.dataset_download_files(dataset_name)\n",
    "    \n",
    "    os.system('unzip eye-diseases-classification.zip')\n",
    "    "
   ]
  },
  {
   "cell_type": "code",
   "execution_count": 4,
   "id": "50059ef1-496a-4ea4-9d0c-411066e70586",
   "metadata": {
    "ExecuteTime": {
     "end_time": "2022-11-18T01:45:55.184885Z",
     "start_time": "2022-11-18T01:45:55.179837Z"
    }
   },
   "outputs": [],
   "source": [
    "dataset_location = os.getcwd() + \"/dataset/\""
   ]
  },
  {
   "cell_type": "code",
   "execution_count": 5,
   "id": "dc325bdf-4099-4e42-99dc-6b557c464398",
   "metadata": {
    "ExecuteTime": {
     "end_time": "2022-11-18T01:45:55.193235Z",
     "start_time": "2022-11-18T01:45:55.189622Z"
    }
   },
   "outputs": [],
   "source": [
    "if not check_dataset(dataset_location):\n",
    "    print('The dataset doesn\\'t exist. Try to load from kaggle')\n",
    "    download_dataset_from_kaggle()"
   ]
  },
  {
   "cell_type": "code",
   "execution_count": 6,
   "id": "e95a2014-ced1-4355-b576-a653d48e9eb0",
   "metadata": {
    "ExecuteTime": {
     "end_time": "2022-11-18T01:45:55.382509Z",
     "start_time": "2022-11-18T01:45:55.198044Z"
    }
   },
   "outputs": [
    {
     "name": "stdout",
     "output_type": "stream",
     "text": [
      "README.md                         eye-diseases-classification.zip\r\n",
      "\u001b[34mdataset\u001b[m\u001b[m                           eye_diseases_classification.ipynb\r\n"
     ]
    }
   ],
   "source": [
    "!ls"
   ]
  },
  {
   "cell_type": "markdown",
   "id": "44a77cd4-a1ee-40ce-a541-ad5665397110",
   "metadata": {},
   "source": [
    "# Data Preparation"
   ]
  },
  {
   "cell_type": "markdown",
   "id": "af0ee11a-c9e7-40ec-b7af-34da9778f6e3",
   "metadata": {},
   "source": [
    "## Import Images"
   ]
  },
  {
   "cell_type": "code",
   "execution_count": 7,
   "id": "3331b95d-ddce-4b42-a52f-a2f250a052f0",
   "metadata": {
    "ExecuteTime": {
     "end_time": "2022-11-18T01:46:00.271515Z",
     "start_time": "2022-11-18T01:45:55.386032Z"
    }
   },
   "outputs": [
    {
     "name": "stdout",
     "output_type": "stream",
     "text": [
      "Requirement already satisfied: Pillow in /Users/zhaoyudong/opt/anaconda3/lib/python3.8/site-packages (8.2.0)\r\n"
     ]
    }
   ],
   "source": [
    "!pip install Pillow"
   ]
  },
  {
   "cell_type": "code",
   "execution_count": 9,
   "id": "ce01a93a",
   "metadata": {
    "ExecuteTime": {
     "end_time": "2022-11-18T01:47:57.555487Z",
     "start_time": "2022-11-18T01:46:15.218018Z"
    }
   },
   "outputs": [
    {
     "name": "stdout",
     "output_type": "stream",
     "text": [
      "Collecting pyspark\n",
      "  Downloading pyspark-3.3.1.tar.gz (281.4 MB)\n",
      "\u001b[K     |████████████████████████████████| 281.4 MB 69 kB/s  eta 0:00:012    |█████                           | 44.9 MB 6.8 MB/s eta 0:00:35     |█████▍                          | 47.8 MB 6.8 MB/s eta 0:00:35     |████████▎                       | 72.5 MB 5.1 MB/s eta 0:00:42     |█████████▊                      | 85.1 MB 11.8 MB/s eta 0:00:17     |████████████                    | 105.1 MB 6.8 MB/s eta 0:00:26     |█████████████                   | 114.6 MB 12.5 MB/s eta 0:00:14     |███████████████▎                | 134.7 MB 9.3 MB/s eta 0:00:16     |███████████████▋                | 137.3 MB 9.3 MB/s eta 0:00:16     |██████████████████████▌         | 197.4 MB 5.9 MB/s eta 0:00:15     |██████████████████████▌         | 197.7 MB 5.9 MB/s eta 0:00:15     |██████████████████████▊         | 199.7 MB 9.9 MB/s eta 0:00:09     |███████████████████████▏        | 203.7 MB 9.9 MB/s eta 0:00:08     |████████████████████████▉       | 218.7 MB 12.8 MB/s eta 0:00:05     |█████████████████████████▉      | 227.6 MB 10.7 MB/s eta 0:00:06     |██████████████████████████▌     | 233.4 MB 10.7 MB/s eta 0:00:05     |██████████████████████████▉     | 235.8 MB 10.7 MB/s eta 0:00:05     |████████████████████████████▋   | 251.4 MB 10.3 MB/s eta 0:00:03     |█████████████████████████████   | 255.9 MB 10.3 MB/s eta 0:00:03ta 0:00:02\n",
      "\u001b[?25hCollecting py4j==0.10.9.5\n",
      "  Downloading py4j-0.10.9.5-py2.py3-none-any.whl (199 kB)\n",
      "\u001b[K     |████████████████████████████████| 199 kB 12.3 MB/s eta 0:00:01\n",
      "\u001b[?25hBuilding wheels for collected packages: pyspark\n",
      "  Building wheel for pyspark (setup.py) ... \u001b[?25ldone\n",
      "\u001b[?25h  Created wheel for pyspark: filename=pyspark-3.3.1-py2.py3-none-any.whl size=281845515 sha256=4dd1e50f9d65c931d46e91983aeef47d92d1aab9b83b40854e6c96b1beddae43\n",
      "  Stored in directory: /Users/zhaoyudong/Library/Caches/pip/wheels/43/dc/11/ec201cd671da62fa9c5cc77078235e40722170ceba231d7598\n",
      "Successfully built pyspark\n",
      "Installing collected packages: py4j, pyspark\n",
      "Successfully installed py4j-0.10.9.5 pyspark-3.3.1\n"
     ]
    }
   ],
   "source": [
    "!pip install pyspark"
   ]
  },
  {
   "cell_type": "code",
   "execution_count": 10,
   "id": "e47ca670-f1e0-4b4b-a864-630c6db9fbec",
   "metadata": {
    "ExecuteTime": {
     "end_time": "2022-11-18T01:48:23.855265Z",
     "start_time": "2022-11-18T01:48:07.525742Z"
    }
   },
   "outputs": [],
   "source": [
    "from pyspark.sql import SparkSession\n",
    "from pyspark.sql.functions import col,when,length,sum,avg,max,count,round\n",
    "import seaborn as sns\n",
    "from PIL import Image, ImageOps, ImageFilter\n",
    "import io"
   ]
  },
  {
   "cell_type": "code",
   "execution_count": 12,
   "id": "20870063-4d43-446e-a473-b5e0e67f0a30",
   "metadata": {
    "ExecuteTime": {
     "end_time": "2022-11-18T01:48:47.975420Z",
     "start_time": "2022-11-18T01:48:44.159278Z"
    }
   },
   "outputs": [],
   "source": [
    "df = spark.read.format('image').option('dropInvalid', True) \\\n",
    "    .option(\"recursiveFileLookup\",\"true\").load(dataset_location).cache()"
   ]
  },
  {
   "cell_type": "code",
   "execution_count": 13,
   "id": "da8df19c-42ef-4a0c-a36f-6b088466a343",
   "metadata": {
    "ExecuteTime": {
     "end_time": "2022-11-18T01:48:50.803846Z",
     "start_time": "2022-11-18T01:48:50.695325Z"
    }
   },
   "outputs": [],
   "source": [
    "label = when(col('image.origin').contains('cataract'), 'cataract')\\\n",
    ".when(col('image.origin').contains('diabetic_retinopathy'), 'diabetic_retinopathy')\\\n",
    ".when(col('image.origin').contains('glaucoma'), 'glaucoma')\\\n",
    ".otherwise('normal')\n",
    "\n",
    "df = df.withColumn('type', label)"
   ]
  },
  {
   "cell_type": "code",
   "execution_count": 14,
   "id": "2b28bdfd-4eff-4a6d-9a7b-b253166ac7c8",
   "metadata": {
    "ExecuteTime": {
     "end_time": "2022-11-18T01:48:53.004905Z",
     "start_time": "2022-11-18T01:48:52.979062Z"
    }
   },
   "outputs": [
    {
     "name": "stdout",
     "output_type": "stream",
     "text": [
      "root\n",
      " |-- image: struct (nullable = true)\n",
      " |    |-- origin: string (nullable = true)\n",
      " |    |-- height: integer (nullable = true)\n",
      " |    |-- width: integer (nullable = true)\n",
      " |    |-- nChannels: integer (nullable = true)\n",
      " |    |-- mode: integer (nullable = true)\n",
      " |    |-- data: binary (nullable = true)\n",
      " |-- type: string (nullable = false)\n",
      "\n"
     ]
    }
   ],
   "source": [
    "df.printSchema()"
   ]
  },
  {
   "cell_type": "code",
   "execution_count": 18,
   "id": "686902d0",
   "metadata": {
    "ExecuteTime": {
     "end_time": "2022-11-18T01:54:11.109659Z",
     "start_time": "2022-11-18T01:54:08.469562Z"
    }
   },
   "outputs": [
    {
     "data": {
      "text/plain": [
       "2977"
      ]
     },
     "execution_count": 18,
     "metadata": {},
     "output_type": "execute_result"
    }
   ],
   "source": [
    "df.count()"
   ]
  },
  {
   "cell_type": "code",
   "execution_count": 20,
   "id": "69eac779-6a2e-4b1b-911b-eb2a3b2c55f3",
   "metadata": {
    "ExecuteTime": {
     "end_time": "2022-11-18T01:55:34.110699Z",
     "start_time": "2022-11-18T01:55:32.792409Z"
    }
   },
   "outputs": [
    {
     "name": "stdout",
     "output_type": "stream",
     "text": [
      "+--------+-----------------------------------------------------------------------------------+-----+------+---------+----+\n",
      "|type    |origin                                                                             |width|height|nChannels|mode|\n",
      "+--------+-----------------------------------------------------------------------------------+-----+------+---------+----+\n",
      "|cataract|file:///Users/zhaoyudong/workspace/clarku/BAN5600/dataset/cataract/cataract_024.png|2464 |1632  |3        |16  |\n",
      "|glaucoma|file:///Users/zhaoyudong/workspace/clarku/BAN5600/dataset/glaucoma/Glaucoma_081.png|2464 |1632  |3        |16  |\n",
      "|glaucoma|file:///Users/zhaoyudong/workspace/clarku/BAN5600/dataset/glaucoma/Glaucoma_072.png|2464 |1632  |3        |16  |\n",
      "|glaucoma|file:///Users/zhaoyudong/workspace/clarku/BAN5600/dataset/glaucoma/Glaucoma_024.png|2464 |1632  |3        |16  |\n",
      "|glaucoma|file:///Users/zhaoyudong/workspace/clarku/BAN5600/dataset/glaucoma/Glaucoma_071.png|2464 |1632  |3        |16  |\n",
      "|glaucoma|file:///Users/zhaoyudong/workspace/clarku/BAN5600/dataset/glaucoma/Glaucoma_082.png|2464 |1632  |3        |16  |\n",
      "|glaucoma|file:///Users/zhaoyudong/workspace/clarku/BAN5600/dataset/glaucoma/Glaucoma_048.png|2464 |1632  |3        |16  |\n",
      "|cataract|file:///Users/zhaoyudong/workspace/clarku/BAN5600/dataset/cataract/cataract_074.png|2464 |1632  |3        |16  |\n",
      "|cataract|file:///Users/zhaoyudong/workspace/clarku/BAN5600/dataset/cataract/cataract_028.png|2464 |1632  |3        |16  |\n",
      "|glaucoma|file:///Users/zhaoyudong/workspace/clarku/BAN5600/dataset/glaucoma/Glaucoma_086.png|2464 |1632  |3        |16  |\n",
      "+--------+-----------------------------------------------------------------------------------+-----+------+---------+----+\n",
      "only showing top 10 rows\n",
      "\n"
     ]
    }
   ],
   "source": [
    "df.select('type', 'image.origin', 'image.width', 'image.height', 'image.nChannels', 'image.mode').show(10, truncate=False)"
   ]
  },
  {
   "cell_type": "code",
   "execution_count": 24,
   "id": "372b305d",
   "metadata": {
    "ExecuteTime": {
     "end_time": "2022-11-18T01:58:04.643501Z",
     "start_time": "2022-11-18T01:57:28.249674Z"
    }
   },
   "outputs": [
    {
     "name": "stdout",
     "output_type": "stream",
     "text": [
      "+-------+--------+--------------------+------------------+------------------+---------+----+\n",
      "|summary|    type|              origin|             width|            height|nChannels|mode|\n",
      "+-------+--------+--------------------+------------------+------------------+---------+----+\n",
      "|  count|    2977|                2977|              2977|              2977|     2977|2977|\n",
      "|   mean|    null|                null| 648.1746724890829|  591.086328518643|      3.0|16.0|\n",
      "| stddev|    null|                null|507.94338819232763|295.39371099230834|      0.0| 0.0|\n",
      "|    min|cataract|file:///Users/zha...|               512|               512|        3|  16|\n",
      "|    25%|    null|                null|               512|               512|        3|  16|\n",
      "|    50%|    null|                null|               512|               512|        3|  16|\n",
      "|    75%|    null|                null|               512|               512|        3|  16|\n",
      "|    max|  normal|file:///Users/zha...|              2592|              1728|        3|  16|\n",
      "+-------+--------+--------------------+------------------+------------------+---------+----+\n",
      "\n"
     ]
    }
   ],
   "source": [
    "df.select('type', 'image.origin', 'image.width', 'image.height', 'image.nChannels', 'image.mode').summary().show()"
   ]
  },
  {
   "cell_type": "code",
   "execution_count": null,
   "id": "7c35ea39-96f5-4620-9a2e-f11da494e513",
   "metadata": {},
   "outputs": [],
   "source": []
  },
  {
   "cell_type": "code",
   "execution_count": null,
   "id": "989eb75c-9da6-4d6b-9ae4-6743f696ed47",
   "metadata": {},
   "outputs": [],
   "source": []
  },
  {
   "cell_type": "code",
   "execution_count": null,
   "id": "68035d81-5ea2-412c-b07d-e7660808e52d",
   "metadata": {},
   "outputs": [],
   "source": []
  },
  {
   "cell_type": "code",
   "execution_count": null,
   "id": "a546fc19-01f1-4c30-8a37-987561d4ec21",
   "metadata": {},
   "outputs": [],
   "source": []
  },
  {
   "cell_type": "markdown",
   "id": "b5585f01-8623-41ec-b65f-f0ac8f936971",
   "metadata": {},
   "source": [
    "## Feature Extraction"
   ]
  },
  {
   "cell_type": "code",
   "execution_count": null,
   "id": "497049cc-9f9d-4f6c-9588-a382b6bbe8fd",
   "metadata": {},
   "outputs": [],
   "source": [
    "from pyspark.sql.functions import udf, lit\n",
    "from pyspark.sql.types import BinaryType, ArrayType, IntegerType\n",
    "import numpy as np\n",
    "from pyspark.ml.linalg import Vectors, VectorUDT"
   ]
  },
  {
   "cell_type": "markdown",
   "id": "c5fbfad0-b711-4ca8-ad9a-5bcb709603b6",
   "metadata": {},
   "source": [
    "### Grayscale"
   ]
  },
  {
   "cell_type": "code",
   "execution_count": null,
   "id": "71fcadf9-e002-4aff-b75a-dd11d98c7017",
   "metadata": {},
   "outputs": [],
   "source": [
    "def to_grayscale(image):\n",
    "    img_obj = Image.frombytes('RGB', (image['width'], image['height']), bytes(image['data']))\n",
    "    img_obj = ImageOps.grayscale(img_obj)\n",
    "   # imgByteArr = io.BytesIO()\n",
    "   # img_obj.save(imgByteArr, format=image.format)\n",
    "    return bytearray(img_obj.tobytes())"
   ]
  },
  {
   "cell_type": "code",
   "execution_count": null,
   "id": "cc15d878-bcf5-4f8e-8983-c77c0ac03d8f",
   "metadata": {},
   "outputs": [],
   "source": [
    "type(bytearray(img.tobytes()))"
   ]
  },
  {
   "cell_type": "code",
   "execution_count": null,
   "id": "3d0f9cfd-7993-4ef9-940e-2a17a36a9009",
   "metadata": {},
   "outputs": [],
   "source": [
    "grayscale_udf = udf(lambda x:to_grayscale(x), BinaryType())"
   ]
  },
  {
   "cell_type": "code",
   "execution_count": null,
   "id": "4d4e306f-20f9-4459-82f7-decda6af03cd",
   "metadata": {},
   "outputs": [],
   "source": [
    "gray_df = df.withColumn(\"gray\", grayscale_udf(df.image))"
   ]
  },
  {
   "cell_type": "markdown",
   "id": "af5fcb8e-3e6b-4349-9a5f-e024c1ea6415",
   "metadata": {},
   "source": [
    "### Edge"
   ]
  },
  {
   "cell_type": "code",
   "execution_count": null,
   "id": "964e7420-b0fd-4fef-8515-b13a20104d1a",
   "metadata": {},
   "outputs": [],
   "source": [
    "# def find_edge(image):\n",
    "#     img_obj = Image.frombytes('RGB', (image['width'], image['height']), bytes(image['data']))\n",
    "#     img_obj =  img_obj.convert(\"L\").filter(ImageFilter.FIND_EDGES).tobytes()\n",
    "#     return bytearray(img_obj)\n"
   ]
  },
  {
   "cell_type": "code",
   "execution_count": null,
   "id": "8790932f-c0e0-4142-ae60-91843ee93645",
   "metadata": {},
   "outputs": [],
   "source": [
    "# edge_udf = udf(lambda x:find_edge(x), ArrayType(IntegerType()))"
   ]
  },
  {
   "cell_type": "code",
   "execution_count": null,
   "id": "7e895857-c624-4f52-bb08-4bb337890463",
   "metadata": {},
   "outputs": [],
   "source": [
    "# edge_df = df.withColumn(\"edge\", edge_udf(df.image))"
   ]
  },
  {
   "cell_type": "markdown",
   "id": "e9ab1439-1698-4cc4-8396-9bbc0815d914",
   "metadata": {},
   "source": [
    "compare orign image, gray image, and edge image"
   ]
  },
  {
   "cell_type": "code",
   "execution_count": null,
   "id": "9f803235-060f-4398-8bd1-a49996a3abb3",
   "metadata": {},
   "outputs": [],
   "source": [
    "img.show()"
   ]
  },
  {
   "cell_type": "code",
   "execution_count": null,
   "id": "30e10cb4-672e-418a-aee8-4dfafac279be",
   "metadata": {},
   "outputs": [],
   "source": [
    "first_ = gray_df.first()"
   ]
  },
  {
   "cell_type": "code",
   "execution_count": null,
   "id": "d8ecdc29-328e-4a06-b876-8f6c25ebc62c",
   "metadata": {},
   "outputs": [],
   "source": [
    "Image.frombytes('L', (first_['image']['width'], first_['image']['height']), bytes(first_['gray'])).show()"
   ]
  },
  {
   "cell_type": "code",
   "execution_count": null,
   "id": "22436297-4bcb-4c79-b94d-90afd82162e2",
   "metadata": {},
   "outputs": [],
   "source": []
  }
 ],
 "metadata": {
  "kernelspec": {
   "display_name": "Python 3",
   "language": "python",
   "name": "python3"
  },
  "language_info": {
   "codemirror_mode": {
    "name": "ipython",
    "version": 3
   },
   "file_extension": ".py",
   "mimetype": "text/x-python",
   "name": "python",
   "nbconvert_exporter": "python",
   "pygments_lexer": "ipython3",
   "version": "3.8.8"
  }
 },
 "nbformat": 4,
 "nbformat_minor": 5
}
